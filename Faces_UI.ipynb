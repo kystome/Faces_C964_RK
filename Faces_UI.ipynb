{
 "cells": [
  {
   "cell_type": "markdown",
   "id": "0641e70d-666c-4e31-9944-c182f2cd213b",
   "metadata": {},
   "source": [
    "# **Fake Face Dectection Model**\n",
    "## Robert King C964 Capstone"
   ]
  },
  {
   "metadata": {},
   "cell_type": "markdown",
   "source": "## Install necessary modules, libraries, and imports",
   "id": "6ca0d68a855fa6e8"
  },
  {
   "cell_type": "code",
   "id": "02ec9276-e065-4383-92b9-44450ebfb459",
   "metadata": {
    "ExecuteTime": {
     "end_time": "2024-06-08T21:24:15.531547Z",
     "start_time": "2024-06-08T21:24:13.078148Z"
    }
   },
   "source": [
    "# Upgrade the pip\n",
    "!pip install --upgrade pip"
   ],
   "outputs": [
    {
     "name": "stdout",
     "output_type": "stream",
     "text": [
      "Requirement already satisfied: pip in c:\\users\\rwbk1\\.venv\\lib\\site-packages (24.0)\n"
     ]
    }
   ],
   "execution_count": 1
  },
  {
   "cell_type": "code",
   "id": "827f7f903738ce85",
   "metadata": {
    "ExecuteTime": {
     "end_time": "2024-06-08T21:24:18.286552Z",
     "start_time": "2024-06-08T21:24:15.532554Z"
    }
   },
   "source": [
    "# install gradio\n",
    "!pip install gradio"
   ],
   "outputs": [
    {
     "name": "stdout",
     "output_type": "stream",
     "text": [
      "Requirement already satisfied: gradio in c:\\users\\rwbk1\\.venv\\lib\\site-packages (4.32.2)\n",
      "Requirement already satisfied: aiofiles<24.0,>=22.0 in c:\\users\\rwbk1\\.venv\\lib\\site-packages (from gradio) (23.2.1)\n",
      "Requirement already satisfied: altair<6.0,>=4.2.0 in c:\\users\\rwbk1\\.venv\\lib\\site-packages (from gradio) (5.3.0)\n",
      "Requirement already satisfied: fastapi in c:\\users\\rwbk1\\.venv\\lib\\site-packages (from gradio) (0.111.0)\n",
      "Requirement already satisfied: ffmpy in c:\\users\\rwbk1\\.venv\\lib\\site-packages (from gradio) (0.3.2)\n",
      "Requirement already satisfied: gradio-client==0.17.0 in c:\\users\\rwbk1\\.venv\\lib\\site-packages (from gradio) (0.17.0)\n",
      "Requirement already satisfied: httpx>=0.24.1 in c:\\users\\rwbk1\\.venv\\lib\\site-packages (from gradio) (0.27.0)\n",
      "Requirement already satisfied: huggingface-hub>=0.19.3 in c:\\users\\rwbk1\\.venv\\lib\\site-packages (from gradio) (0.23.2)\n",
      "Requirement already satisfied: importlib-resources<7.0,>=1.3 in c:\\users\\rwbk1\\.venv\\lib\\site-packages (from gradio) (6.4.0)\n",
      "Requirement already satisfied: jinja2<4.0 in c:\\users\\rwbk1\\.venv\\lib\\site-packages (from gradio) (3.1.4)\n",
      "Requirement already satisfied: markupsafe~=2.0 in c:\\users\\rwbk1\\.venv\\lib\\site-packages (from gradio) (2.1.5)\n",
      "Requirement already satisfied: matplotlib~=3.0 in c:\\users\\rwbk1\\.venv\\lib\\site-packages (from gradio) (3.9.0)\n",
      "Requirement already satisfied: numpy~=1.0 in c:\\users\\rwbk1\\.venv\\lib\\site-packages (from gradio) (1.26.4)\n",
      "Requirement already satisfied: orjson~=3.0 in c:\\users\\rwbk1\\.venv\\lib\\site-packages (from gradio) (3.10.3)\n",
      "Requirement already satisfied: packaging in c:\\users\\rwbk1\\.venv\\lib\\site-packages (from gradio) (24.0)\n",
      "Requirement already satisfied: pandas<3.0,>=1.0 in c:\\users\\rwbk1\\.venv\\lib\\site-packages (from gradio) (2.2.2)\n",
      "Requirement already satisfied: pillow<11.0,>=8.0 in c:\\users\\rwbk1\\.venv\\lib\\site-packages (from gradio) (10.3.0)\n",
      "Requirement already satisfied: pydantic>=2.0 in c:\\users\\rwbk1\\.venv\\lib\\site-packages (from gradio) (2.7.3)\n",
      "Requirement already satisfied: pydub in c:\\users\\rwbk1\\.venv\\lib\\site-packages (from gradio) (0.25.1)\n",
      "Requirement already satisfied: python-multipart>=0.0.9 in c:\\users\\rwbk1\\.venv\\lib\\site-packages (from gradio) (0.0.9)\n",
      "Requirement already satisfied: pyyaml<7.0,>=5.0 in c:\\users\\rwbk1\\.venv\\lib\\site-packages (from gradio) (6.0.1)\n",
      "Requirement already satisfied: ruff>=0.2.2 in c:\\users\\rwbk1\\.venv\\lib\\site-packages (from gradio) (0.4.7)\n",
      "Requirement already satisfied: semantic-version~=2.0 in c:\\users\\rwbk1\\.venv\\lib\\site-packages (from gradio) (2.10.0)\n",
      "Requirement already satisfied: tomlkit==0.12.0 in c:\\users\\rwbk1\\.venv\\lib\\site-packages (from gradio) (0.12.0)\n",
      "Requirement already satisfied: typer<1.0,>=0.12 in c:\\users\\rwbk1\\.venv\\lib\\site-packages (from gradio) (0.12.3)\n",
      "Requirement already satisfied: typing-extensions~=4.0 in c:\\users\\rwbk1\\.venv\\lib\\site-packages (from gradio) (4.12.1)\n",
      "Requirement already satisfied: urllib3~=2.0 in c:\\users\\rwbk1\\.venv\\lib\\site-packages (from gradio) (2.2.1)\n",
      "Requirement already satisfied: uvicorn>=0.14.0 in c:\\users\\rwbk1\\.venv\\lib\\site-packages (from gradio) (0.30.1)\n",
      "Requirement already satisfied: fsspec in c:\\users\\rwbk1\\.venv\\lib\\site-packages (from gradio-client==0.17.0->gradio) (2024.6.0)\n",
      "Requirement already satisfied: websockets<12.0,>=10.0 in c:\\users\\rwbk1\\.venv\\lib\\site-packages (from gradio-client==0.17.0->gradio) (11.0.3)\n",
      "Requirement already satisfied: jsonschema>=3.0 in c:\\users\\rwbk1\\.venv\\lib\\site-packages (from altair<6.0,>=4.2.0->gradio) (4.22.0)\n",
      "Requirement already satisfied: toolz in c:\\users\\rwbk1\\.venv\\lib\\site-packages (from altair<6.0,>=4.2.0->gradio) (0.12.1)\n",
      "Requirement already satisfied: anyio in c:\\users\\rwbk1\\.venv\\lib\\site-packages (from httpx>=0.24.1->gradio) (4.4.0)\n",
      "Requirement already satisfied: certifi in c:\\users\\rwbk1\\.venv\\lib\\site-packages (from httpx>=0.24.1->gradio) (2024.6.2)\n",
      "Requirement already satisfied: httpcore==1.* in c:\\users\\rwbk1\\.venv\\lib\\site-packages (from httpx>=0.24.1->gradio) (1.0.5)\n",
      "Requirement already satisfied: idna in c:\\users\\rwbk1\\.venv\\lib\\site-packages (from httpx>=0.24.1->gradio) (3.7)\n",
      "Requirement already satisfied: sniffio in c:\\users\\rwbk1\\.venv\\lib\\site-packages (from httpx>=0.24.1->gradio) (1.3.1)\n",
      "Requirement already satisfied: h11<0.15,>=0.13 in c:\\users\\rwbk1\\.venv\\lib\\site-packages (from httpcore==1.*->httpx>=0.24.1->gradio) (0.14.0)\n",
      "Requirement already satisfied: filelock in c:\\users\\rwbk1\\.venv\\lib\\site-packages (from huggingface-hub>=0.19.3->gradio) (3.14.0)\n",
      "Requirement already satisfied: requests in c:\\users\\rwbk1\\.venv\\lib\\site-packages (from huggingface-hub>=0.19.3->gradio) (2.32.3)\n",
      "Requirement already satisfied: tqdm>=4.42.1 in c:\\users\\rwbk1\\.venv\\lib\\site-packages (from huggingface-hub>=0.19.3->gradio) (4.66.4)\n",
      "Requirement already satisfied: contourpy>=1.0.1 in c:\\users\\rwbk1\\.venv\\lib\\site-packages (from matplotlib~=3.0->gradio) (1.2.1)\n",
      "Requirement already satisfied: cycler>=0.10 in c:\\users\\rwbk1\\.venv\\lib\\site-packages (from matplotlib~=3.0->gradio) (0.12.1)\n",
      "Requirement already satisfied: fonttools>=4.22.0 in c:\\users\\rwbk1\\.venv\\lib\\site-packages (from matplotlib~=3.0->gradio) (4.53.0)\n",
      "Requirement already satisfied: kiwisolver>=1.3.1 in c:\\users\\rwbk1\\.venv\\lib\\site-packages (from matplotlib~=3.0->gradio) (1.4.5)\n",
      "Requirement already satisfied: pyparsing>=2.3.1 in c:\\users\\rwbk1\\.venv\\lib\\site-packages (from matplotlib~=3.0->gradio) (3.1.2)\n",
      "Requirement already satisfied: python-dateutil>=2.7 in c:\\users\\rwbk1\\.venv\\lib\\site-packages (from matplotlib~=3.0->gradio) (2.9.0.post0)\n",
      "Requirement already satisfied: pytz>=2020.1 in c:\\users\\rwbk1\\.venv\\lib\\site-packages (from pandas<3.0,>=1.0->gradio) (2024.1)\n",
      "Requirement already satisfied: tzdata>=2022.7 in c:\\users\\rwbk1\\.venv\\lib\\site-packages (from pandas<3.0,>=1.0->gradio) (2024.1)\n",
      "Requirement already satisfied: annotated-types>=0.4.0 in c:\\users\\rwbk1\\.venv\\lib\\site-packages (from pydantic>=2.0->gradio) (0.7.0)\n",
      "Requirement already satisfied: pydantic-core==2.18.4 in c:\\users\\rwbk1\\.venv\\lib\\site-packages (from pydantic>=2.0->gradio) (2.18.4)\n",
      "Requirement already satisfied: click>=8.0.0 in c:\\users\\rwbk1\\.venv\\lib\\site-packages (from typer<1.0,>=0.12->gradio) (8.1.7)\n",
      "Requirement already satisfied: shellingham>=1.3.0 in c:\\users\\rwbk1\\.venv\\lib\\site-packages (from typer<1.0,>=0.12->gradio) (1.5.4)\n",
      "Requirement already satisfied: rich>=10.11.0 in c:\\users\\rwbk1\\.venv\\lib\\site-packages (from typer<1.0,>=0.12->gradio) (13.7.1)\n",
      "Requirement already satisfied: starlette<0.38.0,>=0.37.2 in c:\\users\\rwbk1\\.venv\\lib\\site-packages (from fastapi->gradio) (0.37.2)\n",
      "Requirement already satisfied: fastapi-cli>=0.0.2 in c:\\users\\rwbk1\\.venv\\lib\\site-packages (from fastapi->gradio) (0.0.4)\n",
      "Requirement already satisfied: ujson!=4.0.2,!=4.1.0,!=4.2.0,!=4.3.0,!=5.0.0,!=5.1.0,>=4.0.1 in c:\\users\\rwbk1\\.venv\\lib\\site-packages (from fastapi->gradio) (5.10.0)\n",
      "Requirement already satisfied: email_validator>=2.0.0 in c:\\users\\rwbk1\\.venv\\lib\\site-packages (from fastapi->gradio) (2.1.1)\n",
      "Requirement already satisfied: colorama in c:\\users\\rwbk1\\.venv\\lib\\site-packages (from click>=8.0.0->typer<1.0,>=0.12->gradio) (0.4.6)\n",
      "Requirement already satisfied: dnspython>=2.0.0 in c:\\users\\rwbk1\\.venv\\lib\\site-packages (from email_validator>=2.0.0->fastapi->gradio) (2.6.1)\n",
      "Requirement already satisfied: attrs>=22.2.0 in c:\\users\\rwbk1\\.venv\\lib\\site-packages (from jsonschema>=3.0->altair<6.0,>=4.2.0->gradio) (23.2.0)\n",
      "Requirement already satisfied: jsonschema-specifications>=2023.03.6 in c:\\users\\rwbk1\\.venv\\lib\\site-packages (from jsonschema>=3.0->altair<6.0,>=4.2.0->gradio) (2023.12.1)\n",
      "Requirement already satisfied: referencing>=0.28.4 in c:\\users\\rwbk1\\.venv\\lib\\site-packages (from jsonschema>=3.0->altair<6.0,>=4.2.0->gradio) (0.35.1)\n",
      "Requirement already satisfied: rpds-py>=0.7.1 in c:\\users\\rwbk1\\.venv\\lib\\site-packages (from jsonschema>=3.0->altair<6.0,>=4.2.0->gradio) (0.18.1)\n",
      "Requirement already satisfied: six>=1.5 in c:\\users\\rwbk1\\.venv\\lib\\site-packages (from python-dateutil>=2.7->matplotlib~=3.0->gradio) (1.16.0)\n",
      "Requirement already satisfied: markdown-it-py>=2.2.0 in c:\\users\\rwbk1\\.venv\\lib\\site-packages (from rich>=10.11.0->typer<1.0,>=0.12->gradio) (3.0.0)\n",
      "Requirement already satisfied: pygments<3.0.0,>=2.13.0 in c:\\users\\rwbk1\\.venv\\lib\\site-packages (from rich>=10.11.0->typer<1.0,>=0.12->gradio) (2.18.0)\n",
      "Requirement already satisfied: httptools>=0.5.0 in c:\\users\\rwbk1\\.venv\\lib\\site-packages (from uvicorn[standard]>=0.12.0->fastapi->gradio) (0.6.1)\n",
      "Requirement already satisfied: python-dotenv>=0.13 in c:\\users\\rwbk1\\.venv\\lib\\site-packages (from uvicorn[standard]>=0.12.0->fastapi->gradio) (1.0.1)\n",
      "Requirement already satisfied: watchfiles>=0.13 in c:\\users\\rwbk1\\.venv\\lib\\site-packages (from uvicorn[standard]>=0.12.0->fastapi->gradio) (0.22.0)\n",
      "Requirement already satisfied: charset-normalizer<4,>=2 in c:\\users\\rwbk1\\.venv\\lib\\site-packages (from requests->huggingface-hub>=0.19.3->gradio) (3.3.2)\n",
      "Requirement already satisfied: mdurl~=0.1 in c:\\users\\rwbk1\\.venv\\lib\\site-packages (from markdown-it-py>=2.2.0->rich>=10.11.0->typer<1.0,>=0.12->gradio) (0.1.2)\n"
     ]
    }
   ],
   "execution_count": 2
  },
  {
   "cell_type": "code",
   "id": "initial_id",
   "metadata": {
    "collapsed": true,
    "jupyter": {
     "outputs_hidden": true
    },
    "ExecuteTime": {
     "end_time": "2024-06-08T21:24:25.142379Z",
     "start_time": "2024-06-08T21:24:18.287063Z"
    }
   },
   "source": [
    "# Import necessary libraries\n",
    "import tensorflow as tf\n",
    "from tensorflow import keras\n",
    "from tensorflow.keras import Sequential\n",
    "from tensorflow.keras.layers import Conv2D, MaxPooling2D, Flatten, Dense, Dropout, Input\n",
    "import gradio as gr\n",
    "import cv2\n",
    "import numpy as np"
   ],
   "outputs": [],
   "execution_count": 3
  },
  {
   "metadata": {},
   "cell_type": "markdown",
   "source": "## Create model architecture and load saved model weights",
   "id": "c68a68d150a185be"
  },
  {
   "cell_type": "code",
   "id": "b9c9df2ee8dd8c54",
   "metadata": {
    "ExecuteTime": {
     "end_time": "2024-06-08T21:24:25.382369Z",
     "start_time": "2024-06-08T21:24:25.143889Z"
    }
   },
   "source": [
    "# Load saved model for predictions\n",
    "model_predict = tf.keras.models.load_model('face_model.keras')"
   ],
   "outputs": [],
   "execution_count": 4
  },
  {
   "cell_type": "code",
   "id": "cdf4bc51e148ad37",
   "metadata": {
    "ExecuteTime": {
     "end_time": "2024-06-08T21:24:25.474898Z",
     "start_time": "2024-06-08T21:24:25.382369Z"
    }
   },
   "source": [
    "# Create model architecture for model predictions. Weights will be loaded into this architecture.\n",
    "\n",
    "loaded_model = Sequential()\n",
    "\n",
    "loaded_model.add(Input(shape=(256, 256, 3)))\n",
    "\n",
    "loaded_model.add(Conv2D(16, (3, 3), activation='relu'))\n",
    "loaded_model.add(Dropout(0.2))\n",
    "loaded_model.add(MaxPooling2D(2,2))\n",
    "\n",
    "loaded_model.add(Conv2D(32, (3, 3), activation='relu'))\n",
    "loaded_model.add(Dropout(0.2))\n",
    "loaded_model.add(MaxPooling2D(2,2))\n",
    "\n",
    "loaded_model.add(Conv2D(64, (3, 3), activation='relu'))\n",
    "loaded_model.add(Dropout(0.2))\n",
    "loaded_model.add(MaxPooling2D(2,2))\n",
    "\n",
    "loaded_model.add(Conv2D(128, (3, 3), activation='relu'))\n",
    "loaded_model.add(MaxPooling2D(2,2))\n",
    "\n",
    "loaded_model.add(Conv2D(256, (3, 3), activation='relu'))\n",
    "loaded_model.add(MaxPooling2D(2,2))\n",
    "\n",
    "loaded_model.add(Conv2D(512, (3, 3), activation='relu'))\n",
    "loaded_model.add(MaxPooling2D(2,2))\n",
    "\n",
    "loaded_model.add(Flatten())\n",
    "\n",
    "loaded_model.add(Dense(256, activation='relu'))\n",
    "loaded_model.add(Dropout(0.5))\n",
    "loaded_model.add(Dense(1, activation='sigmoid'))"
   ],
   "outputs": [],
   "execution_count": 5
  },
  {
   "cell_type": "code",
   "id": "f4182111dfdbe0e",
   "metadata": {
    "ExecuteTime": {
     "end_time": "2024-06-08T21:24:25.492367Z",
     "start_time": "2024-06-08T21:24:25.474898Z"
    }
   },
   "source": [
    "# Load weights into the architecture\n",
    "loaded_model.load_weights('faces_model.weights.h5')"
   ],
   "outputs": [],
   "execution_count": 6
  },
  {
   "cell_type": "code",
   "id": "5f9a0cadda5be37a",
   "metadata": {
    "ExecuteTime": {
     "end_time": "2024-06-08T21:24:25.495728Z",
     "start_time": "2024-06-08T21:24:25.492367Z"
    }
   },
   "source": [
    "# Define prediction model\n",
    "def predict(input_image):\n",
    "    input_image = cv2.resize(input_image, (256, 256))\n",
    "    input_image = np.expand_dims(input_image / 255, 0)\n",
    "    prediction = loaded_model.predict(input_image)\n",
    "    if prediction > 0.5:\n",
    "        result = \"This face may be real\"\n",
    "    else:\n",
    "        result = \"This face may be fake\"\n",
    "    return result"
   ],
   "outputs": [],
   "execution_count": 7
  },
  {
   "metadata": {},
   "cell_type": "markdown",
   "source": "## User Interface",
   "id": "9550fbdd1fa2e092"
  },
  {
   "cell_type": "code",
   "id": "524d5812ad507544",
   "metadata": {
    "ExecuteTime": {
     "end_time": "2024-06-08T21:24:28.314801Z",
     "start_time": "2024-06-08T21:24:25.495728Z"
    }
   },
   "source": [
    "# Create gradio user interface to upload images for the model to predict.\n",
    "input_image = gr.Image(label=\"Input Image\")\n",
    "output_label = gr.Label(label=\"Prediction\")\n",
    "interface = gr.Interface(fn=predict, inputs=input_image, outputs=output_label, title=\"Face Prediction Model\")\n",
    "interface.launch(share=True)"
   ],
   "outputs": [
    {
     "name": "stdout",
     "output_type": "stream",
     "text": [
      "Running on local URL:  http://127.0.0.1:7860\n",
      "Running on public URL: https://a51b992d05aba22be0.gradio.live\n",
      "\n",
      "This share link expires in 72 hours. For free permanent hosting and GPU upgrades, run `gradio deploy` from Terminal to deploy to Spaces (https://huggingface.co/spaces)\n"
     ]
    },
    {
     "data": {
      "text/plain": [
       "<IPython.core.display.HTML object>"
      ],
      "text/html": [
       "<div><iframe src=\"https://a51b992d05aba22be0.gradio.live\" width=\"100%\" height=\"500\" allow=\"autoplay; camera; microphone; clipboard-read; clipboard-write;\" frameborder=\"0\" allowfullscreen></iframe></div>"
      ]
     },
     "metadata": {},
     "output_type": "display_data"
    },
    {
     "data": {
      "text/plain": []
     },
     "execution_count": 8,
     "metadata": {},
     "output_type": "execute_result"
    }
   ],
   "execution_count": 8
  }
 ],
 "metadata": {
  "kernelspec": {
   "display_name": "Python 3 (ipykernel)",
   "language": "python",
   "name": "python3"
  },
  "language_info": {
   "codemirror_mode": {
    "name": "ipython",
    "version": 3
   },
   "file_extension": ".py",
   "mimetype": "text/x-python",
   "name": "python",
   "nbconvert_exporter": "python",
   "pygments_lexer": "ipython3",
   "version": "3.12.3"
  }
 },
 "nbformat": 4,
 "nbformat_minor": 5
}
